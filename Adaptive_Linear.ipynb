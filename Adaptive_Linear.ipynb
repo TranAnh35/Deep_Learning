{
 "cells": [
  {
   "cell_type": "code",
   "execution_count": 1,
   "metadata": {},
   "outputs": [],
   "source": [
    "import numpy as np\n",
    "import pandas as pd\n",
    "import matplotlib.pyplot as plt\n",
    "\n",
    "from sklearn import datasets\n",
    "from sklearn.metrics import accuracy_score, recall_score, f1_score, precision_score"
   ]
  },
  {
   "cell_type": "markdown",
   "metadata": {},
   "source": [
    "# Dataset"
   ]
  },
  {
   "cell_type": "code",
   "execution_count": 2,
   "metadata": {},
   "outputs": [
    {
     "data": {
      "text/html": [
       "<div>\n",
       "<style scoped>\n",
       "    .dataframe tbody tr th:only-of-type {\n",
       "        vertical-align: middle;\n",
       "    }\n",
       "\n",
       "    .dataframe tbody tr th {\n",
       "        vertical-align: top;\n",
       "    }\n",
       "\n",
       "    .dataframe thead th {\n",
       "        text-align: right;\n",
       "    }\n",
       "</style>\n",
       "<table border=\"1\" class=\"dataframe\">\n",
       "  <thead>\n",
       "    <tr style=\"text-align: right;\">\n",
       "      <th></th>\n",
       "      <th>V1</th>\n",
       "      <th>V2</th>\n",
       "      <th>V3</th>\n",
       "      <th>V4</th>\n",
       "      <th>V5</th>\n",
       "      <th>V6</th>\n",
       "      <th>V7</th>\n",
       "      <th>V8</th>\n",
       "      <th>V9</th>\n",
       "      <th>V10</th>\n",
       "      <th>...</th>\n",
       "      <th>V4861</th>\n",
       "      <th>V4862</th>\n",
       "      <th>V4863</th>\n",
       "      <th>V4864</th>\n",
       "      <th>V4865</th>\n",
       "      <th>V4866</th>\n",
       "      <th>V4867</th>\n",
       "      <th>V4868</th>\n",
       "      <th>V4869</th>\n",
       "      <th>V4870</th>\n",
       "    </tr>\n",
       "  </thead>\n",
       "  <tbody>\n",
       "    <tr>\n",
       "      <th>0</th>\n",
       "      <td>1</td>\n",
       "      <td>-0.448</td>\n",
       "      <td>-0.296</td>\n",
       "      <td>-0.100</td>\n",
       "      <td>-0.177</td>\n",
       "      <td>-0.107</td>\n",
       "      <td>0.128</td>\n",
       "      <td>-0.110</td>\n",
       "      <td>-0.095</td>\n",
       "      <td>-0.076</td>\n",
       "      <td>...</td>\n",
       "      <td>0.519</td>\n",
       "      <td>-0.135</td>\n",
       "      <td>-0.211</td>\n",
       "      <td>0.122</td>\n",
       "      <td>-0.289</td>\n",
       "      <td>-0.014</td>\n",
       "      <td>0.183</td>\n",
       "      <td>0.002</td>\n",
       "      <td>-0.508</td>\n",
       "      <td>0.031</td>\n",
       "    </tr>\n",
       "    <tr>\n",
       "      <th>1</th>\n",
       "      <td>1</td>\n",
       "      <td>-0.480</td>\n",
       "      <td>-0.512</td>\n",
       "      <td>-0.031</td>\n",
       "      <td>-0.075</td>\n",
       "      <td>-0.104</td>\n",
       "      <td>-0.018</td>\n",
       "      <td>-0.234</td>\n",
       "      <td>-0.225</td>\n",
       "      <td>-0.094</td>\n",
       "      <td>...</td>\n",
       "      <td>-0.107</td>\n",
       "      <td>-0.164</td>\n",
       "      <td>-0.304</td>\n",
       "      <td>0.068</td>\n",
       "      <td>-0.352</td>\n",
       "      <td>0.143</td>\n",
       "      <td>-0.128</td>\n",
       "      <td>0.049</td>\n",
       "      <td>0.265</td>\n",
       "      <td>-0.378</td>\n",
       "    </tr>\n",
       "    <tr>\n",
       "      <th>2</th>\n",
       "      <td>1</td>\n",
       "      <td>-0.568</td>\n",
       "      <td>-0.411</td>\n",
       "      <td>-0.398</td>\n",
       "      <td>0.116</td>\n",
       "      <td>-0.092</td>\n",
       "      <td>0.001</td>\n",
       "      <td>-0.166</td>\n",
       "      <td>0.036</td>\n",
       "      <td>0.397</td>\n",
       "      <td>...</td>\n",
       "      <td>-0.066</td>\n",
       "      <td>0.073</td>\n",
       "      <td>0.268</td>\n",
       "      <td>0.079</td>\n",
       "      <td>0.045</td>\n",
       "      <td>-0.290</td>\n",
       "      <td>0.024</td>\n",
       "      <td>0.275</td>\n",
       "      <td>0.499</td>\n",
       "      <td>-0.356</td>\n",
       "    </tr>\n",
       "    <tr>\n",
       "      <th>3</th>\n",
       "      <td>1</td>\n",
       "      <td>-0.819</td>\n",
       "      <td>-0.267</td>\n",
       "      <td>0.023</td>\n",
       "      <td>-0.230</td>\n",
       "      <td>0.198</td>\n",
       "      <td>-0.409</td>\n",
       "      <td>-0.510</td>\n",
       "      <td>0.529</td>\n",
       "      <td>0.354</td>\n",
       "      <td>...</td>\n",
       "      <td>-0.149</td>\n",
       "      <td>0.316</td>\n",
       "      <td>0.010</td>\n",
       "      <td>-0.243</td>\n",
       "      <td>-0.204</td>\n",
       "      <td>-0.072</td>\n",
       "      <td>0.009</td>\n",
       "      <td>-0.028</td>\n",
       "      <td>0.620</td>\n",
       "      <td>-0.394</td>\n",
       "    </tr>\n",
       "    <tr>\n",
       "      <th>4</th>\n",
       "      <td>1</td>\n",
       "      <td>-0.112</td>\n",
       "      <td>-0.670</td>\n",
       "      <td>0.421</td>\n",
       "      <td>-0.190</td>\n",
       "      <td>0.032</td>\n",
       "      <td>0.291</td>\n",
       "      <td>0.281</td>\n",
       "      <td>0.310</td>\n",
       "      <td>0.056</td>\n",
       "      <td>...</td>\n",
       "      <td>0.047</td>\n",
       "      <td>-0.042</td>\n",
       "      <td>-0.304</td>\n",
       "      <td>-0.112</td>\n",
       "      <td>-0.475</td>\n",
       "      <td>0.160</td>\n",
       "      <td>0.133</td>\n",
       "      <td>-0.093</td>\n",
       "      <td>-0.609</td>\n",
       "      <td>-0.036</td>\n",
       "    </tr>\n",
       "  </tbody>\n",
       "</table>\n",
       "<p>5 rows × 4870 columns</p>\n",
       "</div>"
      ],
      "text/plain": [
       "   V1     V2     V3     V4     V5     V6     V7     V8     V9    V10  ...  \\\n",
       "0   1 -0.448 -0.296 -0.100 -0.177 -0.107  0.128 -0.110 -0.095 -0.076  ...   \n",
       "1   1 -0.480 -0.512 -0.031 -0.075 -0.104 -0.018 -0.234 -0.225 -0.094  ...   \n",
       "2   1 -0.568 -0.411 -0.398  0.116 -0.092  0.001 -0.166  0.036  0.397  ...   \n",
       "3   1 -0.819 -0.267  0.023 -0.230  0.198 -0.409 -0.510  0.529  0.354  ...   \n",
       "4   1 -0.112 -0.670  0.421 -0.190  0.032  0.291  0.281  0.310  0.056  ...   \n",
       "\n",
       "   V4861  V4862  V4863  V4864  V4865  V4866  V4867  V4868  V4869  V4870  \n",
       "0  0.519 -0.135 -0.211  0.122 -0.289 -0.014  0.183  0.002 -0.508  0.031  \n",
       "1 -0.107 -0.164 -0.304  0.068 -0.352  0.143 -0.128  0.049  0.265 -0.378  \n",
       "2 -0.066  0.073  0.268  0.079  0.045 -0.290  0.024  0.275  0.499 -0.356  \n",
       "3 -0.149  0.316  0.010 -0.243 -0.204 -0.072  0.009 -0.028  0.620 -0.394  \n",
       "4  0.047 -0.042 -0.304 -0.112 -0.475  0.160  0.133 -0.093 -0.609 -0.036  \n",
       "\n",
       "[5 rows x 4870 columns]"
      ]
     },
     "execution_count": 2,
     "metadata": {},
     "output_type": "execute_result"
    }
   ],
   "source": [
    "df = pd.read_csv(\"Data/data_comparing/Breast2classes.csv\")\n",
    "df.head()"
   ]
  },
  {
   "cell_type": "code",
   "execution_count": 3,
   "metadata": {},
   "outputs": [],
   "source": [
    "import pandas as pd\n",
    "from sklearn.feature_selection import VarianceThreshold, SelectKBest, f_classif\n",
    "\n",
    "selector = VarianceThreshold(threshold=0.1)\n",
    "df_reduced_variance = selector.fit_transform(df)\n",
    "\n",
    "X = df.drop('V1', axis=1)\n",
    "y = df['V1']\n",
    "selector = SelectKBest(score_func=f_classif, k=50)\n",
    "df_reduced_kbest = selector.fit_transform(X, y)"
   ]
  },
  {
   "cell_type": "code",
   "execution_count": 9,
   "metadata": {},
   "outputs": [
    {
     "data": {
      "text/plain": [
       "(77, 50)"
      ]
     },
     "execution_count": 9,
     "metadata": {},
     "output_type": "execute_result"
    }
   ],
   "source": [
    "df_reduced_kbest.shape"
   ]
  },
  {
   "cell_type": "code",
   "execution_count": 21,
   "metadata": {},
   "outputs": [],
   "source": [
    "from sklearn.model_selection import train_test_split\n",
    "\n",
    "X_train, X_test, y_train, y_test = train_test_split(df_reduced_kbest, y.values, test_size=0.2, random_state=42)"
   ]
  },
  {
   "cell_type": "code",
   "execution_count": 22,
   "metadata": {},
   "outputs": [],
   "source": [
    "X_max = X_train.max(axis=0)\n",
    "X_min = X_train.min(axis=0)\n",
    "X_train_scale = (X_train - X_min)/(X_max - X_min)\n",
    "X_test_scale = (X_test - X_min)/(X_max - X_min)"
   ]
  },
  {
   "cell_type": "markdown",
   "metadata": {},
   "source": [
    "# Build Model"
   ]
  },
  {
   "cell_type": "code",
   "execution_count": 23,
   "metadata": {},
   "outputs": [],
   "source": [
    "class Adaptive_Linear():\n",
    "    def __init__(self, lr=0.001, epochs=10, gd_type='bgd', batch_size=None, threshold=0):\n",
    "        valid_gd_types = ['bgd', 'sgd', 'mgd']\n",
    "        if gd_type not in valid_gd_types:\n",
    "            raise ValueError(f\"Invalid gd_type. Expected one of {valid_gd_types}, but got '{gd_type}'.\")\n",
    "        if gd_type == \"mgd\" and batch_size == None:\n",
    "            raise ValueError(f\"With the SGD algorithm, batch_size is different from None\")\n",
    "        self.lr = lr\n",
    "        self.w = None\n",
    "        self.epochs = epochs\n",
    "        self.losses = []\n",
    "        self.gd_type = gd_type\n",
    "        self.batch_size = batch_size\n",
    "        self.threshold = threshold \n",
    "        \n",
    "    def activation(self, z):\n",
    "        return z\n",
    "\n",
    "    def predict_prob(self, X):\n",
    "        z = np.dot(X, self.w.T)\n",
    "        return self.activation(z)\n",
    "\n",
    "    def predict(self, X):\n",
    "        y_hat = self.predict_prob(X)\n",
    "        y_hat = np.where(y_hat >= self.threshold, 1, 0)\n",
    "        return y_hat\n",
    "\n",
    "    def loss(self, X, y):\n",
    "        y_hat = self.predict_prob(X)\n",
    "        delta = y - y_hat\n",
    "        return np.mean(delta**2)\n",
    "\n",
    "    def grad(self, X, y):\n",
    "        y_hat = self.predict_prob(X)\n",
    "        delta = y_hat - y\n",
    "        dw = np.dot(X.T, delta)\n",
    "        return dw.T\n",
    "\n",
    "    def fit(self, X, y):\n",
    "        X_bias = np.c_[np.ones(X.shape[0]), X]\n",
    "        self.w = np.zeros((1, X_bias.shape[1]))\n",
    "        for i in range(self.epochs):\n",
    "            if self.gd_type == 'bgd':\n",
    "                dw = self.grad(X_bias, y)\n",
    "                self.w -= self.lr * dw\n",
    "            elif self.gd_type == 'sgd':\n",
    "                for i in range(X_bias.shape[0]):\n",
    "                    xi = X_bias[i:i+1]\n",
    "                    yi = y[i:i+1]\n",
    "                    dw = self.grad(xi, yi)\n",
    "                    self.w -= self.lr * dw\n",
    "            elif self.gd_type == 'mgd':\n",
    "                indices = np.random.permutation(X_bias.shape[0])\n",
    "                X_shuffled = X_bias[indices]\n",
    "                y_shuffled = y[indices]\n",
    "                \n",
    "                for i in range(0, X_bias.shape[0], self.batch_size):\n",
    "                    xi_batch = X_shuffled[i:i+self.batch_size]\n",
    "                    yi_batch = y_shuffled[i:i+self.batch_size]\n",
    "                    dw = self.grad(xi_batch, yi_batch)\n",
    "                    self.w -= self.lr * dw\n",
    "            self.losses.append(self.loss(X_bias, y))\n",
    "\n",
    "    def evaluate(self, X, y):\n",
    "        X_bias = np.c_[np.ones(X.shape[0]), X]\n",
    "        y_pred = self.predict(X_bias)\n",
    "        print(f'Accuracy: {accuracy_score(y, y_pred)}')\n",
    "        print(f'Recall: {recall_score(y, y_pred, average='macro', zero_division=0)}')\n",
    "        print(f'Precision: {precision_score(y, y_pred, average='macro', zero_division=0)}')"
   ]
  },
  {
   "cell_type": "markdown",
   "metadata": {},
   "source": [
    "## BGD"
   ]
  },
  {
   "cell_type": "markdown",
   "metadata": {},
   "source": [
    "### Train"
   ]
  },
  {
   "cell_type": "code",
   "execution_count": 30,
   "metadata": {},
   "outputs": [],
   "source": [
    "model = Adaptive_Linear(lr=0.0001, epochs=200, threshold=0)\n",
    "model.fit(X_train_scale, y_train.reshape(-1, 1))"
   ]
  },
  {
   "cell_type": "code",
   "execution_count": 31,
   "metadata": {},
   "outputs": [
    {
     "name": "stdout",
     "output_type": "stream",
     "text": [
      "Accuracy: 0.5901639344262295\n",
      "Recall: 0.5\n",
      "Precision: 0.29508196721311475\n"
     ]
    },
    {
     "data": {
      "text/plain": [
       "[<matplotlib.lines.Line2D at 0x7e65bffa85f0>]"
      ]
     },
     "execution_count": 31,
     "metadata": {},
     "output_type": "execute_result"
    },
    {
     "data": {
      "image/png": "[encoded data removed]",
      "text/plain": [
       "<Figure size 640x480 with 1 Axes>"
      ]
     },
     "metadata": {},
     "output_type": "display_data"
    }
   ],
   "source": [
    "model.evaluate(X_train_scale, y_train)\n",
    "plt.plot(model.losses)"
   ]
  },
  {
   "cell_type": "markdown",
   "metadata": {},
   "source": [
    "### Test"
   ]
  },
  {
   "cell_type": "code",
   "execution_count": 32,
   "metadata": {},
   "outputs": [
    {
     "name": "stdout",
     "output_type": "stream",
     "text": [
      "Accuracy: 0.5\n",
      "Recall: 0.5\n",
      "Precision: 0.25\n"
     ]
    }
   ],
   "source": [
    "model.evaluate(X_test_scale, y_test)"
   ]
  },
  {
   "cell_type": "markdown",
   "metadata": {},
   "source": [
    "## SGD"
   ]
  },
  {
   "cell_type": "markdown",
   "metadata": {},
   "source": [
    "### Train"
   ]
  },
  {
   "cell_type": "code",
   "execution_count": 39,
   "metadata": {},
   "outputs": [],
   "source": [
    "model = Adaptive_Linear(lr=0.0002, epochs=250, gd_type='sgd')\n",
    "model.fit(X_train, y_train.reshape(-1, 1))"
   ]
  },
  {
   "cell_type": "code",
   "execution_count": 40,
   "metadata": {},
   "outputs": [
    {
     "name": "stdout",
     "output_type": "stream",
     "text": [
      "Accuracy: 0.6229508196721312\n",
      "Recall: 0.54\n",
      "Precision: 0.8050847457627119\n"
     ]
    },
    {
     "data": {
      "text/plain": [
       "[<matplotlib.lines.Line2D at 0x7e65bc833c50>]"
      ]
     },
     "execution_count": 40,
     "metadata": {},
     "output_type": "execute_result"
    },
    {
     "data": {
      "image/png": "[encoded data removed]",
      "text/plain": [
       "<Figure size 640x480 with 1 Axes>"
      ]
     },
     "metadata": {},
     "output_type": "display_data"
    }
   ],
   "source": [
    "model.evaluate(X_train, y_train)\n",
    "plt.plot(model.losses)"
   ]
  },
  {
   "cell_type": "markdown",
   "metadata": {},
   "source": [
    "### Test"
   ]
  },
  {
   "cell_type": "code",
   "execution_count": 41,
   "metadata": {},
   "outputs": [
    {
     "name": "stdout",
     "output_type": "stream",
     "text": [
      "Accuracy: 0.5625\n",
      "Recall: 0.5625\n",
      "Precision: 0.7666666666666666\n"
     ]
    }
   ],
   "source": [
    "model.evaluate(X_test, y_test)"
   ]
  },
  {
   "cell_type": "markdown",
   "metadata": {},
   "source": [
    "## MGD"
   ]
  },
  {
   "cell_type": "markdown",
   "metadata": {},
   "source": [
    "### Train"
   ]
  },
  {
   "cell_type": "code",
   "execution_count": 60,
   "metadata": {},
   "outputs": [],
   "source": [
    "model = Adaptive_Linear(lr=0.00002, epochs=1000, gd_type='mgd', batch_size=16)\n",
    "model.fit(X_train, y_train.reshape(-1, 1))"
   ]
  },
  {
   "cell_type": "code",
   "execution_count": 61,
   "metadata": {},
   "outputs": [
    {
     "name": "stdout",
     "output_type": "stream",
     "text": [
      "Accuracy: 0.639344262295082\n",
      "Recall: 0.56\n",
      "Precision: 0.8103448275862069\n"
     ]
    },
    {
     "data": {
      "text/plain": [
       "[<matplotlib.lines.Line2D at 0x7e65bc498620>]"
      ]
     },
     "execution_count": 61,
     "metadata": {},
     "output_type": "execute_result"
    },
    {
     "data": {
      "image/png": "[encoded data removed]",
      "text/plain": [
       "<Figure size 640x480 with 1 Axes>"
      ]
     },
     "metadata": {},
     "output_type": "display_data"
    }
   ],
   "source": [
    "model.evaluate(X_train, y_train)\n",
    "plt.plot(model.losses)"
   ]
  },
  {
   "cell_type": "markdown",
   "metadata": {},
   "source": [
    "### Test"
   ]
  },
  {
   "cell_type": "code",
   "execution_count": 62,
   "metadata": {},
   "outputs": [
    {
     "name": "stdout",
     "output_type": "stream",
     "text": [
      "Accuracy: 0.5625\n",
      "Recall: 0.5625\n",
      "Precision: 0.7666666666666666\n"
     ]
    }
   ],
   "source": [
    "model.evaluate(X_test, y_test)"
   ]
  }
 ],
 "metadata": {
  "kernelspec": {
   "display_name": ".venv",
   "language": "python",
   "name": "python3"
  },
  "language_info": {
   "codemirror_mode": {
    "name": "ipython",
    "version": 3
   },
   "file_extension": ".py",
   "mimetype": "text/x-python",
   "name": "python",
   "nbconvert_exporter": "python",
   "pygments_lexer": "ipython3",
   "version": "3.12.3"
  }
 },
 "nbformat": 4,
 "nbformat_minor": 2
}
