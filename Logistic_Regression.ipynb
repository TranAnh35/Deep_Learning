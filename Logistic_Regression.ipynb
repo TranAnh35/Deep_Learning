{
 "cells": [
  {
   "cell_type": "code",
   "execution_count": 1,
   "metadata": {},
   "outputs": [],
   "source": [
    "import numpy as np\n",
    "import pandas as pd\n",
    "import matplotlib.pyplot as plt\n",
    "\n",
    "from sklearn.feature_selection import VarianceThreshold, SelectKBest, f_classif\n",
    "from sklearn.metrics import accuracy_score, recall_score, f1_score, precision_score"
   ]
  },
  {
   "cell_type": "markdown",
   "metadata": {},
   "source": [
    "# Dataset"
   ]
  },
  {
   "cell_type": "code",
   "execution_count": 2,
   "metadata": {},
   "outputs": [
    {
     "data": {
      "text/html": [
       "<div>\n",
       "<style scoped>\n",
       "    .dataframe tbody tr th:only-of-type {\n",
       "        vertical-align: middle;\n",
       "    }\n",
       "\n",
       "    .dataframe tbody tr th {\n",
       "        vertical-align: top;\n",
       "    }\n",
       "\n",
       "    .dataframe thead th {\n",
       "        text-align: right;\n",
       "    }\n",
       "</style>\n",
       "<table border=\"1\" class=\"dataframe\">\n",
       "  <thead>\n",
       "    <tr style=\"text-align: right;\">\n",
       "      <th></th>\n",
       "      <th>V1</th>\n",
       "      <th>V2</th>\n",
       "      <th>V3</th>\n",
       "      <th>V4</th>\n",
       "      <th>V5</th>\n",
       "      <th>V6</th>\n",
       "      <th>V7</th>\n",
       "      <th>V8</th>\n",
       "      <th>V9</th>\n",
       "      <th>V10</th>\n",
       "      <th>...</th>\n",
       "      <th>V6025</th>\n",
       "      <th>V6026</th>\n",
       "      <th>V6027</th>\n",
       "      <th>V6028</th>\n",
       "      <th>V6029</th>\n",
       "      <th>V6030</th>\n",
       "      <th>V6031</th>\n",
       "      <th>V6032</th>\n",
       "      <th>V6033</th>\n",
       "      <th>V6034</th>\n",
       "    </tr>\n",
       "  </thead>\n",
       "  <tbody>\n",
       "    <tr>\n",
       "      <th>0</th>\n",
       "      <td>0</td>\n",
       "      <td>-0.927178</td>\n",
       "      <td>-0.740039</td>\n",
       "      <td>-0.532016</td>\n",
       "      <td>-1.097891</td>\n",
       "      <td>-0.986673</td>\n",
       "      <td>0.018752</td>\n",
       "      <td>-0.863326</td>\n",
       "      <td>3.959997</td>\n",
       "      <td>-0.398219</td>\n",
       "      <td>...</td>\n",
       "      <td>-0.029602</td>\n",
       "      <td>-1.097891</td>\n",
       "      <td>-1.097891</td>\n",
       "      <td>-0.894733</td>\n",
       "      <td>0.850270</td>\n",
       "      <td>-1.097891</td>\n",
       "      <td>-0.302063</td>\n",
       "      <td>-0.767685</td>\n",
       "      <td>-0.452616</td>\n",
       "      <td>0.194001</td>\n",
       "    </tr>\n",
       "    <tr>\n",
       "      <th>1</th>\n",
       "      <td>0</td>\n",
       "      <td>-0.835899</td>\n",
       "      <td>-0.835899</td>\n",
       "      <td>-0.585647</td>\n",
       "      <td>-0.835899</td>\n",
       "      <td>-0.329768</td>\n",
       "      <td>-0.835899</td>\n",
       "      <td>-0.835899</td>\n",
       "      <td>4.037788</td>\n",
       "      <td>-0.835899</td>\n",
       "      <td>...</td>\n",
       "      <td>-0.835899</td>\n",
       "      <td>-0.835899</td>\n",
       "      <td>-0.835899</td>\n",
       "      <td>-0.835899</td>\n",
       "      <td>0.038090</td>\n",
       "      <td>-0.835899</td>\n",
       "      <td>-0.835899</td>\n",
       "      <td>-0.835899</td>\n",
       "      <td>-0.835899</td>\n",
       "      <td>0.075500</td>\n",
       "    </tr>\n",
       "    <tr>\n",
       "      <th>2</th>\n",
       "      <td>0</td>\n",
       "      <td>0.236073</td>\n",
       "      <td>0.252645</td>\n",
       "      <td>-1.154351</td>\n",
       "      <td>-0.372372</td>\n",
       "      <td>-0.338900</td>\n",
       "      <td>1.253467</td>\n",
       "      <td>0.506325</td>\n",
       "      <td>3.868961</td>\n",
       "      <td>0.201932</td>\n",
       "      <td>...</td>\n",
       "      <td>0.860446</td>\n",
       "      <td>-1.154351</td>\n",
       "      <td>-1.154351</td>\n",
       "      <td>-0.372372</td>\n",
       "      <td>0.899781</td>\n",
       "      <td>-0.867200</td>\n",
       "      <td>0.360426</td>\n",
       "      <td>-1.154351</td>\n",
       "      <td>-1.154351</td>\n",
       "      <td>-1.154351</td>\n",
       "    </tr>\n",
       "    <tr>\n",
       "      <th>3</th>\n",
       "      <td>0</td>\n",
       "      <td>-0.748623</td>\n",
       "      <td>-0.439165</td>\n",
       "      <td>0.790953</td>\n",
       "      <td>-1.033876</td>\n",
       "      <td>0.241115</td>\n",
       "      <td>1.216007</td>\n",
       "      <td>0.106282</td>\n",
       "      <td>3.976272</td>\n",
       "      <td>0.081755</td>\n",
       "      <td>...</td>\n",
       "      <td>0.614026</td>\n",
       "      <td>-1.121534</td>\n",
       "      <td>-1.121534</td>\n",
       "      <td>-0.812076</td>\n",
       "      <td>1.230378</td>\n",
       "      <td>-0.355497</td>\n",
       "      <td>0.030647</td>\n",
       "      <td>-0.278810</td>\n",
       "      <td>-1.121534</td>\n",
       "      <td>-1.121534</td>\n",
       "    </tr>\n",
       "    <tr>\n",
       "      <th>4</th>\n",
       "      <td>0</td>\n",
       "      <td>0.101239</td>\n",
       "      <td>-0.298285</td>\n",
       "      <td>-1.121519</td>\n",
       "      <td>-0.957714</td>\n",
       "      <td>0.342258</td>\n",
       "      <td>1.182937</td>\n",
       "      <td>0.029325</td>\n",
       "      <td>4.575871</td>\n",
       "      <td>-0.196466</td>\n",
       "      <td>...</td>\n",
       "      <td>0.639511</td>\n",
       "      <td>-1.121519</td>\n",
       "      <td>-1.121519</td>\n",
       "      <td>-0.454932</td>\n",
       "      <td>0.891627</td>\n",
       "      <td>-0.593427</td>\n",
       "      <td>0.306316</td>\n",
       "      <td>-0.076496</td>\n",
       "      <td>-0.134480</td>\n",
       "      <td>-1.121519</td>\n",
       "    </tr>\n",
       "  </tbody>\n",
       "</table>\n",
       "<p>5 rows × 6034 columns</p>\n",
       "</div>"
      ],
      "text/plain": [
       "   V1        V2        V3        V4        V5        V6        V7        V8  \\\n",
       "0   0 -0.927178 -0.740039 -0.532016 -1.097891 -0.986673  0.018752 -0.863326   \n",
       "1   0 -0.835899 -0.835899 -0.585647 -0.835899 -0.329768 -0.835899 -0.835899   \n",
       "2   0  0.236073  0.252645 -1.154351 -0.372372 -0.338900  1.253467  0.506325   \n",
       "3   0 -0.748623 -0.439165  0.790953 -1.033876  0.241115  1.216007  0.106282   \n",
       "4   0  0.101239 -0.298285 -1.121519 -0.957714  0.342258  1.182937  0.029325   \n",
       "\n",
       "         V9       V10  ...     V6025     V6026     V6027     V6028     V6029  \\\n",
       "0  3.959997 -0.398219  ... -0.029602 -1.097891 -1.097891 -0.894733  0.850270   \n",
       "1  4.037788 -0.835899  ... -0.835899 -0.835899 -0.835899 -0.835899  0.038090   \n",
       "2  3.868961  0.201932  ...  0.860446 -1.154351 -1.154351 -0.372372  0.899781   \n",
       "3  3.976272  0.081755  ...  0.614026 -1.121534 -1.121534 -0.812076  1.230378   \n",
       "4  4.575871 -0.196466  ...  0.639511 -1.121519 -1.121519 -0.454932  0.891627   \n",
       "\n",
       "      V6030     V6031     V6032     V6033     V6034  \n",
       "0 -1.097891 -0.302063 -0.767685 -0.452616  0.194001  \n",
       "1 -0.835899 -0.835899 -0.835899 -0.835899  0.075500  \n",
       "2 -0.867200  0.360426 -1.154351 -1.154351 -1.154351  \n",
       "3 -0.355497  0.030647 -0.278810 -1.121534 -1.121534  \n",
       "4 -0.593427  0.306316 -0.076496 -0.134480 -1.121519  \n",
       "\n",
       "[5 rows x 6034 columns]"
      ]
     },
     "execution_count": 2,
     "metadata": {},
     "output_type": "execute_result"
    }
   ],
   "source": [
    "df = pd.read_csv(\"Data/data_comparing/Prostate.csv\")\n",
    "df.head()"
   ]
  },
  {
   "cell_type": "code",
   "execution_count": 3,
   "metadata": {},
   "outputs": [],
   "source": [
    "selector = VarianceThreshold(threshold=0.1)\n",
    "df_reduced_variance = selector.fit_transform(df)\n",
    "\n",
    "X = df.drop('V1', axis=1)\n",
    "y = df['V1']\n",
    "selector = SelectKBest(score_func=f_classif, k=50)\n",
    "df_reduced_kbest = selector.fit_transform(X, y)"
   ]
  },
  {
   "cell_type": "code",
   "execution_count": 5,
   "metadata": {},
   "outputs": [],
   "source": [
    "from sklearn.model_selection import train_test_split\n",
    "\n",
    "X_train, X_test, y_train, y_test = train_test_split(df_reduced_kbest, y.values, test_size=0.2, random_state=42)"
   ]
  },
  {
   "cell_type": "markdown",
   "metadata": {},
   "source": [
    "# Build Model"
   ]
  },
  {
   "cell_type": "code",
   "execution_count": 6,
   "metadata": {},
   "outputs": [],
   "source": [
    "class Logistic_Regression():\n",
    "    def __init__(self, lr=0.01, epochs=1000):\n",
    "        self.lr = lr\n",
    "        self.epochs = epochs\n",
    "        self.w = None\n",
    "        self.losses = []\n",
    "\n",
    "    def activation(self, z):\n",
    "        return np.exp(z) / (1 + np.exp(z))\n",
    "\n",
    "    def predict_prob(self, X):\n",
    "        z = np.dot(X, self.w.T)\n",
    "        return self.activation(z)\n",
    "\n",
    "    def predict(self, X):\n",
    "        y_hat = self.predict_prob(X)\n",
    "        y_hat = np.where(y_hat >= 0.5, 1, 0)\n",
    "        return y_hat\n",
    "\n",
    "    def loss(self, X, y):\n",
    "        y_hat = self.predict_prob(X)\n",
    "        l = y * np.log(y_hat) + (1 - y) * np.log(1 - y_hat)\n",
    "        return -np.mean(l)\n",
    "\n",
    "    def grad(self, X, y):\n",
    "        y_hat = self.predict_prob(X)\n",
    "        delta = y_hat - y\n",
    "        dw = np.dot(X.T, delta)\n",
    "        return dw.T\n",
    "\n",
    "    def fit(self, X, y):\n",
    "        X_bias = np.c_[np.ones(X.shape[0]), X]\n",
    "        self.w = np.zeros((1, X_bias.shape[1]))\n",
    "        for i in range(self.epochs):\n",
    "            dw = self.grad(X_bias, y)\n",
    "            self.w -= self.lr * dw\n",
    "            self.losses.append(self.loss(X_bias, y))\n",
    "\n",
    "    def evaluate(self, X, y):\n",
    "        X_bias = np.c_[np.ones(X.shape[0]), X]\n",
    "        y_pred = self.predict(X_bias)\n",
    "        print(f'Accuracy: {accuracy_score(y, y_pred)}')\n",
    "        print(f'Recall: {recall_score(y, y_pred)}')\n",
    "        print(f'Precision: {precision_score(y, y_pred)}')"
   ]
  },
  {
   "cell_type": "markdown",
   "metadata": {},
   "source": [
    "## Train"
   ]
  },
  {
   "cell_type": "code",
   "execution_count": 10,
   "metadata": {},
   "outputs": [],
   "source": [
    "model = Logistic_Regression(lr=0.0002, epochs=1000)\n",
    "model.fit(X_train, y_train.reshape(-1, 1))"
   ]
  },
  {
   "cell_type": "code",
   "execution_count": 11,
   "metadata": {},
   "outputs": [
    {
     "name": "stdout",
     "output_type": "stream",
     "text": [
      "Accuracy: 0.9753086419753086\n",
      "Recall: 0.9545454545454546\n",
      "Precision: 1.0\n"
     ]
    },
    {
     "data": {
      "text/plain": [
       "[<matplotlib.lines.Line2D at 0x7e5a7cd330e0>]"
      ]
     },
     "execution_count": 11,
     "metadata": {},
     "output_type": "execute_result"
    },
    {
     "data": {
      "image/png": "[encoded data removed]",
      "text/plain": [
       "<Figure size 640x480 with 1 Axes>"
      ]
     },
     "metadata": {},
     "output_type": "display_data"
    }
   ],
   "source": [
    "model.evaluate(X_train, y_train)\n",
    "plt.plot(model.losses)"
   ]
  },
  {
   "cell_type": "markdown",
   "metadata": {},
   "source": [
    "## Test"
   ]
  },
  {
   "cell_type": "code",
   "execution_count": 12,
   "metadata": {},
   "outputs": [
    {
     "name": "stdout",
     "output_type": "stream",
     "text": [
      "Accuracy: 0.9047619047619048\n",
      "Recall: 0.875\n",
      "Precision: 0.875\n"
     ]
    }
   ],
   "source": [
    "model.evaluate(X_test, y_test)"
   ]
  }
 ],
 "metadata": {
  "kernelspec": {
   "display_name": ".venv",
   "language": "python",
   "name": "python3"
  },
  "language_info": {
   "codemirror_mode": {
    "name": "ipython",
    "version": 3
   },
   "file_extension": ".py",
   "mimetype": "text/x-python",
   "name": "python",
   "nbconvert_exporter": "python",
   "pygments_lexer": "ipython3",
   "version": "3.12.3"
  }
 },
 "nbformat": 4,
 "nbformat_minor": 2
}
